{
 "cells": [
  {
   "cell_type": "code",
   "execution_count": 9,
   "id": "7c59ecd3",
   "metadata": {},
   "outputs": [],
   "source": [
    "import numpy as np\n",
    "import cv2"
   ]
  },
  {
   "cell_type": "code",
   "execution_count": 10,
   "id": "e1298e32",
   "metadata": {},
   "outputs": [],
   "source": [
    "with_mask = np.load('with_mask.npy')\n",
    "without_mask = np.load('without_mask.npy')\n",
    "\n",
    "\n"
   ]
  },
  {
   "cell_type": "code",
   "execution_count": 11,
   "id": "5253cf58",
   "metadata": {},
   "outputs": [
    {
     "data": {
      "text/plain": [
       "(200, 50, 50, 3)"
      ]
     },
     "execution_count": 11,
     "metadata": {},
     "output_type": "execute_result"
    }
   ],
   "source": [
    "with_mask.shape"
   ]
  },
  {
   "cell_type": "code",
   "execution_count": 12,
   "id": "4e50f76f",
   "metadata": {},
   "outputs": [
    {
     "data": {
      "text/plain": [
       "(200, 50, 50, 3)"
      ]
     },
     "execution_count": 12,
     "metadata": {},
     "output_type": "execute_result"
    }
   ],
   "source": [
    "without_mask.shape"
   ]
  },
  {
   "cell_type": "code",
   "execution_count": 13,
   "id": "1b93097a",
   "metadata": {},
   "outputs": [
    {
     "data": {
      "text/plain": [
       "(200, 7500)"
      ]
     },
     "execution_count": 13,
     "metadata": {},
     "output_type": "execute_result"
    }
   ],
   "source": [
    "with_mask = with_mask.reshape(200,50*50*3)\n",
    "without_mask = without_mask.reshape(200,50*50*3)\n",
    "with_mask.shape"
   ]
  },
  {
   "cell_type": "code",
   "execution_count": 14,
   "id": "2ad92e31",
   "metadata": {},
   "outputs": [],
   "source": [
    "X = np.r_[with_mask,without_mask] # To concatenate rows use r_"
   ]
  },
  {
   "cell_type": "code",
   "execution_count": 15,
   "id": "2574ee41",
   "metadata": {},
   "outputs": [
    {
     "data": {
      "text/plain": [
       "(400, 7500)"
      ]
     },
     "execution_count": 15,
     "metadata": {},
     "output_type": "execute_result"
    }
   ],
   "source": [
    "X.shape\n"
   ]
  },
  {
   "cell_type": "code",
   "execution_count": 16,
   "id": "233384af",
   "metadata": {},
   "outputs": [],
   "source": [
    "labels = np.zeros(X.shape[0])"
   ]
  },
  {
   "cell_type": "code",
   "execution_count": 17,
   "id": "802619bb",
   "metadata": {},
   "outputs": [],
   "source": [
    "labels[200:] = 1.0"
   ]
  },
  {
   "cell_type": "code",
   "execution_count": 18,
   "id": "8a69cccd",
   "metadata": {},
   "outputs": [],
   "source": [
    "names = {0 : 'Allow him the Person is wearing a Mask' , 1 : 'Stop him the Person is not wearing a Mask'}"
   ]
  },
  {
   "cell_type": "code",
   "execution_count": 19,
   "id": "62fcae68",
   "metadata": {},
   "outputs": [],
   "source": [
    "# https://scikit-learn.org/stable/\n",
    "from sklearn.svm import SVC\n",
    "from sklearn.metrics import accuracy_score"
   ]
  },
  {
   "cell_type": "code",
   "execution_count": 20,
   "id": "34e0f082",
   "metadata": {},
   "outputs": [],
   "source": [
    "from sklearn.model_selection import train_test_split"
   ]
  },
  {
   "cell_type": "code",
   "execution_count": 21,
   "id": "68be91ab",
   "metadata": {},
   "outputs": [],
   "source": [
    "x_train,x_test, y_train, y_test = train_test_split(X,labels,test_size=0.25)"
   ]
  },
  {
   "cell_type": "code",
   "execution_count": 22,
   "id": "2e1c20f6",
   "metadata": {},
   "outputs": [
    {
     "data": {
      "text/plain": [
       "(300, 7500)"
      ]
     },
     "execution_count": 22,
     "metadata": {},
     "output_type": "execute_result"
    }
   ],
   "source": [
    "x_train.shape"
   ]
  },
  {
   "cell_type": "code",
   "execution_count": 23,
   "id": "7ffca69a",
   "metadata": {},
   "outputs": [],
   "source": [
    "# PCA principal component analysis\n",
    "from sklearn.decomposition import PCA"
   ]
  },
  {
   "cell_type": "code",
   "execution_count": 24,
   "id": "368ea3d2",
   "metadata": {},
   "outputs": [],
   "source": [
    "pca = PCA(n_components = 3)\n",
    "x_train = pca.fit_transform(x_train)"
   ]
  },
  {
   "cell_type": "code",
   "execution_count": 25,
   "id": "4c35178a",
   "metadata": {},
   "outputs": [
    {
     "data": {
      "text/plain": [
       "array([-1154.90390403,  1030.77660831,  -935.45362854])"
      ]
     },
     "execution_count": 25,
     "metadata": {},
     "output_type": "execute_result"
    }
   ],
   "source": [
    "x_train[0]"
   ]
  },
  {
   "cell_type": "code",
   "execution_count": 26,
   "id": "d7c0c90e",
   "metadata": {},
   "outputs": [
    {
     "data": {
      "text/plain": [
       "(300, 3)"
      ]
     },
     "execution_count": 26,
     "metadata": {},
     "output_type": "execute_result"
    }
   ],
   "source": [
    "x_train.shape\n"
   ]
  },
  {
   "cell_type": "code",
   "execution_count": 27,
   "id": "a2a1b526",
   "metadata": {},
   "outputs": [],
   "source": [
    "x_train,x_test, y_train, y_test = train_test_split(X,labels,test_size=0.20)"
   ]
  },
  {
   "cell_type": "code",
   "execution_count": 28,
   "id": "e8197603",
   "metadata": {},
   "outputs": [
    {
     "data": {
      "text/plain": [
       "SVC()"
      ]
     },
     "execution_count": 28,
     "metadata": {},
     "output_type": "execute_result"
    }
   ],
   "source": [
    "svm = SVC()\n",
    "svm.fit(x_train, y_train)"
   ]
  },
  {
   "cell_type": "code",
   "execution_count": 29,
   "id": "b2626ab3",
   "metadata": {},
   "outputs": [],
   "source": [
    "#x_test = pca.transform(x_test)\n",
    "y_pred = svm.predict(x_test)"
   ]
  },
  {
   "cell_type": "code",
   "execution_count": 30,
   "id": "32bf93aa",
   "metadata": {},
   "outputs": [
    {
     "data": {
      "text/plain": [
       "1.0"
      ]
     },
     "execution_count": 30,
     "metadata": {},
     "output_type": "execute_result"
    }
   ],
   "source": [
    "accuracy_score(y_test,y_pred)"
   ]
  },
  {
   "cell_type": "code",
   "execution_count": 31,
   "id": "df8183b7",
   "metadata": {},
   "outputs": [
    {
     "name": "stdout",
     "output_type": "stream",
     "text": [
      "Allow him the Person is wearing a Mask\n",
      "Allow him the Person is wearing a Mask\n",
      "Allow him the Person is wearing a Mask\n",
      "Allow him the Person is wearing a Mask\n",
      "Allow him the Person is wearing a Mask\n",
      "Allow him the Person is wearing a Mask\n",
      "Allow him the Person is wearing a Mask\n",
      "Allow him the Person is wearing a Mask\n",
      "Allow him the Person is wearing a Mask\n",
      "Allow him the Person is wearing a Mask\n",
      "Stop him the Person is not wearing a Mask\n",
      "Stop him the Person is not wearing a Mask\n",
      "Stop him the Person is not wearing a Mask\n",
      "Stop him the Person is not wearing a Mask\n",
      "Stop him the Person is not wearing a Mask\n",
      "Stop him the Person is not wearing a Mask\n",
      "Stop him the Person is not wearing a Mask\n",
      "Stop him the Person is not wearing a Mask\n",
      "Stop him the Person is not wearing a Mask\n",
      "Stop him the Person is not wearing a Mask\n",
      "Stop him the Person is not wearing a Mask\n",
      "Stop him the Person is not wearing a Mask\n",
      "Stop him the Person is not wearing a Mask\n",
      "Stop him the Person is not wearing a Mask\n",
      "Stop him the Person is not wearing a Mask\n",
      "Stop him the Person is not wearing a Mask\n",
      "Stop him the Person is not wearing a Mask\n",
      "Stop him the Person is not wearing a Mask\n",
      "Stop him the Person is not wearing a Mask\n",
      "Stop him the Person is not wearing a Mask\n",
      "Stop him the Person is not wearing a Mask\n",
      "Stop him the Person is not wearing a Mask\n",
      "Stop him the Person is not wearing a Mask\n",
      "Stop him the Person is not wearing a Mask\n",
      "Stop him the Person is not wearing a Mask\n",
      "Stop him the Person is not wearing a Mask\n",
      "Stop him the Person is not wearing a Mask\n",
      "Stop him the Person is not wearing a Mask\n",
      "Stop him the Person is not wearing a Mask\n",
      "Stop him the Person is not wearing a Mask\n",
      "Stop him the Person is not wearing a Mask\n",
      "Stop him the Person is not wearing a Mask\n",
      "Stop him the Person is not wearing a Mask\n",
      "Stop him the Person is not wearing a Mask\n",
      "Stop him the Person is not wearing a Mask\n",
      "Stop him the Person is not wearing a Mask\n",
      "Stop him the Person is not wearing a Mask\n",
      "Stop him the Person is not wearing a Mask\n",
      "Stop him the Person is not wearing a Mask\n",
      "Stop him the Person is not wearing a Mask\n",
      "Stop him the Person is not wearing a Mask\n",
      "Stop him the Person is not wearing a Mask\n",
      "Allow him the Person is wearing a Mask\n",
      "Allow him the Person is wearing a Mask\n",
      "Allow him the Person is wearing a Mask\n",
      "Allow him the Person is wearing a Mask\n",
      "Allow him the Person is wearing a Mask\n",
      "Allow him the Person is wearing a Mask\n",
      "Allow him the Person is wearing a Mask\n",
      "Allow him the Person is wearing a Mask\n",
      "Allow him the Person is wearing a Mask\n",
      "Allow him the Person is wearing a Mask\n",
      "Allow him the Person is wearing a Mask\n",
      "Allow him the Person is wearing a Mask\n",
      "Allow him the Person is wearing a Mask\n",
      "Allow him the Person is wearing a Mask\n",
      "Allow him the Person is wearing a Mask\n",
      "Allow him the Person is wearing a Mask\n",
      "Allow him the Person is wearing a Mask\n",
      "Allow him the Person is wearing a Mask\n"
     ]
    },
    {
     "ename": "KeyboardInterrupt",
     "evalue": "",
     "output_type": "error",
     "traceback": [
      "\u001b[1;31m---------------------------------------------------------------------------\u001b[0m",
      "\u001b[1;31mKeyboardInterrupt\u001b[0m                         Traceback (most recent call last)",
      "Input \u001b[1;32mIn [31]\u001b[0m, in \u001b[0;36m<cell line: 5>\u001b[1;34m()\u001b[0m\n\u001b[0;32m      5\u001b[0m flag, img \u001b[38;5;241m=\u001b[39m capture\u001b[38;5;241m.\u001b[39mread()\n\u001b[0;32m      6\u001b[0m \u001b[38;5;28;01mif\u001b[39;00m flag:\n\u001b[1;32m----> 7\u001b[0m     faces \u001b[38;5;241m=\u001b[39m \u001b[43mhaar_data\u001b[49m\u001b[38;5;241;43m.\u001b[39;49m\u001b[43mdetectMultiScale\u001b[49m\u001b[43m(\u001b[49m\u001b[43mimg\u001b[49m\u001b[43m)\u001b[49m\n\u001b[0;32m      8\u001b[0m     \u001b[38;5;28;01mfor\u001b[39;00m x,y,w,h \u001b[38;5;129;01min\u001b[39;00m faces:\n\u001b[0;32m      9\u001b[0m         cv2\u001b[38;5;241m.\u001b[39mrectangle(img,(x,y),(x\u001b[38;5;241m+\u001b[39mw,y\u001b[38;5;241m+\u001b[39mh),(\u001b[38;5;241m255\u001b[39m,\u001b[38;5;241m0\u001b[39m,\u001b[38;5;241m255\u001b[39m),\u001b[38;5;241m4\u001b[39m)\n",
      "\u001b[1;31mKeyboardInterrupt\u001b[0m: "
     ]
    }
   ],
   "source": [
    "haar_data = cv2.CascadeClassifier('haarcascade_frontalface_alt.xml')\n",
    "capture = cv2.VideoCapture(0)\n",
    "data = []\n",
    "while True:\n",
    "    flag, img = capture.read()\n",
    "    if flag:\n",
    "        faces = haar_data.detectMultiScale(img)\n",
    "        for x,y,w,h in faces:\n",
    "            cv2.rectangle(img,(x,y),(x+w,y+h),(255,0,255),4)\n",
    "            face = img[y:y+h,x:x+w, :]\n",
    "            face = cv2.resize(face,(50,50))\n",
    "            face = face.reshape(1,-1)\n",
    "            #face = pca.transform(face)\n",
    "            pred = svm.predict(face)\n",
    "            n = names[int(pred)]\n",
    "            print(n)\n",
    "    cv2.imshow('result',img)\n",
    "    if cv2.waitKey(2) == 27:\n",
    "        break\n",
    "capture.release()        \n",
    "cv2.destroyALLWindows()"
   ]
  },
  {
   "cell_type": "code",
   "execution_count": null,
   "id": "4e128e32",
   "metadata": {},
   "outputs": [],
   "source": []
  },
  {
   "cell_type": "code",
   "execution_count": null,
   "id": "7458e82f",
   "metadata": {},
   "outputs": [],
   "source": []
  },
  {
   "cell_type": "code",
   "execution_count": null,
   "id": "36d2627b",
   "metadata": {},
   "outputs": [],
   "source": []
  }
 ],
 "metadata": {
  "kernelspec": {
   "display_name": "Python 3 (ipykernel)",
   "language": "python",
   "name": "python3"
  },
  "language_info": {
   "codemirror_mode": {
    "name": "ipython",
    "version": 3
   },
   "file_extension": ".py",
   "mimetype": "text/x-python",
   "name": "python",
   "nbconvert_exporter": "python",
   "pygments_lexer": "ipython3",
   "version": "3.9.12"
  }
 },
 "nbformat": 4,
 "nbformat_minor": 5
}
